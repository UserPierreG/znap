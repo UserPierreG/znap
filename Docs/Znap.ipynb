{
 "cells": [
  {
   "cell_type": "markdown",
   "metadata": {},
   "source": [
    "# Team Evil-E   "
   ]
  },
  {
   "cell_type": "markdown",
   "metadata": {},
   "source": [
    "Team members:\n",
    "    Pierre Guichard,\n",
    "    Sabbir Ahamed Saown,\n",
    "    Safo Samson\n",
    "\n",
    "Robot Model: Lego MindStorms EV3 monster Znap.\n",
    "\n",
    "    Motor A: Left track\n",
    "    Motor B: Right track \n",
    "    Motor C: Head movement\n",
    "    Port 3: Distance sensor"
   ]
  },
  {
   "cell_type": "markdown",
   "metadata": {},
   "source": [
    "![](figs/Main.PNG)"
   ]
  },
  {
   "cell_type": "markdown",
   "metadata": {},
   "source": [
    "The main() function; An infinite loop will interate through the code. The forward() function will be called making the robot drive forward continously. However if the sensor measures a distance of less than 5cm, the motors will stop, the robot will play a chearing sound and call the dance() function making the robot dance, subsquentialy the robot will shut down. Similarly, if the sensor detects a distance between 20cm & 5cm, the motors will stop, the robot will say \"Game over\", bite with the bite() function and will turn around with the spin_180_left() function."
   ]
  },
  {
   "cell_type": "markdown",
   "metadata": {},
   "source": [
    "-------------------------------"
   ]
  },
  {
   "cell_type": "markdown",
   "metadata": {},
   "source": [
    "![](figs/Forward.PNG)"
   ]
  },
  {
   "cell_type": "markdown",
   "metadata": {},
   "source": [
    "The forward() function makes the robot drive forwards continiously, on the display screen it will display a forward pointing arrow, assign motors A and C to rotate at 75% speed."
   ]
  },
  {
   "cell_type": "markdown",
   "metadata": {},
   "source": [
    "![](figs/Bite.PNG)"
   ]
  },
  {
   "cell_type": "markdown",
   "metadata": {},
   "source": [
    "The bite() function make the robot bite with its mouth. The display will show a picture of a Jolly Roger. Set the B motor (which is the head motor) speed to 50%. Move anticlockwise 155 degrees and clockwise 155 degrees performing a bite. After it will partially open its mouth play the t-rex roar sound and close its mounth."
   ]
  },
  {
   "cell_type": "markdown",
   "metadata": {},
   "source": [
    "![](figs/Backwards.PNG)"
   ]
  },
  {
   "cell_type": "markdown",
   "metadata": {},
   "source": [
    "The backwards() function will make the robot reverse for 2 seconds at 65% speed and then stop."
   ]
  },
  {
   "cell_type": "markdown",
   "metadata": {},
   "source": [
    "![](figs/Dance.PNG)"
   ]
  },
  {
   "cell_type": "markdown",
   "metadata": {},
   "source": [
    "The dance() funtion will perform a set of movements call other functions for spin around making the robot appear to dance."
   ]
  },
  {
   "cell_type": "markdown",
   "metadata": {},
   "source": [
    "![](figs/Spin%20180%20Left.PNG)\n",
    "![](figs/Spin%20180%20Right.PNG)"
   ]
  },
  {
   "cell_type": "markdown",
   "metadata": {},
   "source": [
    "Both spin functions will make the robot rotate 180 degress either right or left spinning one track one way and the other the other way."
   ]
  }
 ],
 "metadata": {
  "language_info": {
   "name": "python"
  },
  "orig_nbformat": 4
 },
 "nbformat": 4,
 "nbformat_minor": 2
}
